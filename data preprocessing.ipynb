{
 "cells": [
  {
   "attachments": {},
   "cell_type": "markdown",
   "metadata": {},
   "source": [
    "# THE SPARKS FOUNDATION\n",
    "\n",
    "# GRIPFEB21 "
   ]
  },
  {
   "cell_type": "markdown",
   "metadata": {},
   "source": [
    "# NAME: G KRISHNAAI NAIK\n",
    "\n",
    "# DOMAIN: IOT AND COMPUTER VISION\n",
    "\n",
    "# TASK 2: DETECTION OF FACE MASK"
   ]
  },
  {
   "cell_type": "code",
   "execution_count": 1,
   "metadata": {},
   "outputs": [],
   "source": [
    "#IMPORTING REQUIED LIBRARIES\n",
    "import cv2,os   \n",
    "import numpy as np\n",
    "from keras.utils import np_utils\n",
    "from keras.models import Sequential\n",
    "from keras.layers import Dense,Activation,Flatten,Dropout\n",
    "from keras.layers import Conv2D,MaxPooling2D\n",
    "from keras.callbacks import ModelCheckpoint\n",
    "from sklearn.model_selection import train_test_split\n",
    "from matplotlib import pyplot as plt\n",
    "from keras.models import load_model\n",
    "import cv2\n",
    "import numpy as np"
   ]
  },
  {
   "attachments": {},
   "cell_type": "markdown",
   "metadata": {},
   "source": [
    "# DATA PREPROCESSING"
   ]
  },
  {
   "cell_type": "code",
   "execution_count": 2,
   "metadata": {},
   "outputs": [],
   "source": [
    "data_path = 'data'      #LOADING DATASET \n",
    "categories=os.listdir(data_path)\n",
    "labels=[i for i in range(len(categories))]\n",
    "\n",
    "label_dict=dict(zip(categories,labels))  #empty dictionary"
   ]
  },
  {
   "cell_type": "code",
   "execution_count": 3,
   "metadata": {},
   "outputs": [
    {
     "name": "stdout",
     "output_type": "stream",
     "text": [
      "{'without_mask': 0, 'with_mask': 1}\n",
      "['without_mask', 'with_mask']\n",
      "[0, 1]\n"
     ]
    }
   ],
   "source": [
    "print(label_dict)\n",
    "print(categories)\n",
    "print(labels)"
   ]
  },
  {
   "cell_type": "code",
   "execution_count": 4,
   "metadata": {},
   "outputs": [],
   "source": [
    "img_size=100\n",
    "data=[]\n",
    "target=[]\n",
    "\n",
    "\n",
    "for category in categories:\n",
    "    folder_path=os.path.join(data_path,category)\n",
    "    img_names=os.listdir(folder_path)\n",
    "        \n",
    "    for img_name in img_names:\n",
    "        img_path=os.path.join(folder_path,img_name)\n",
    "        img=cv2.imread(img_path)\n",
    "\n",
    "        try:\n",
    "            gray=cv2.cvtColor(img,cv2.COLOR_BGR2GRAY)           \n",
    "            #Coverting the image into gray scale\n",
    "            resized=cv2.resize(gray,(img_size,img_size))\n",
    "            #resizing the gray scale into 50x50, since we need a fixed common size for all the images in the dataset\n",
    "            data.append(resized)\n",
    "            target.append(label_dict[category])\n",
    "            #appending the image and the label(categorized) into the list (dataset)\n",
    "\n",
    "        except Exception as e:\n",
    "            print('Exception:',e)\n",
    "            #if any exception rasied, the exception will be printed here. And pass to the next image"
   ]
  },
  {
   "cell_type": "code",
   "execution_count": 5,
   "metadata": {},
   "outputs": [],
   "source": [
    "data=np.array(data)/255.0\n",
    "data=np.reshape(data,(data.shape[0],img_size,img_size,1))\n",
    "target=np.array(target)"
   ]
  },
  {
   "cell_type": "code",
   "execution_count": 6,
   "metadata": {},
   "outputs": [],
   "source": [
    "new_target=np_utils.to_categorical(target)"
   ]
  },
  {
   "cell_type": "code",
   "execution_count": 16,
   "metadata": {},
   "outputs": [],
   "source": [
    "np.save('data',data)\n",
    "np.save('target',new_target)"
   ]
  },
  {
   "cell_type": "markdown",
   "metadata": {},
   "source": [
    "# Convolutional Neural Network Architecture"
   ]
  },
  {
   "cell_type": "code",
   "execution_count": 22,
   "metadata": {},
   "outputs": [],
   "source": [
    "model=Sequential()\n",
    "\n",
    "model.add(Conv2D(200,(3,3),input_shape=data.shape[1:]))\n",
    "model.add(Activation('relu'))\n",
    "model.add(MaxPooling2D(pool_size=(2,2)))\n",
    "#The first CNN layer followed by Relu and MaxPooling layers\n",
    "\n",
    "model.add(Conv2D(100,(3,3)))\n",
    "model.add(Activation('relu'))\n",
    "model.add(MaxPooling2D(pool_size=(2,2)))\n",
    "#The second convolution layer followed by Relu and MaxPooling layers\n",
    "\n",
    "model.add(Flatten())\n",
    "model.add(Dropout(0.5))\n",
    "#Flatten layer to stack the output convolutions from second convolution layer\n",
    "model.add(Dense(50,activation='relu'))\n",
    "#Dense layer of 64 neurons\n",
    "model.add(Dense(2,activation='softmax'))\n",
    "#The Final layer with two outputs for two categories\n",
    "\n",
    "model.compile(loss='binary_crossentropy',optimizer='adam',metrics=['accuracy'])"
   ]
  },
  {
   "cell_type": "code",
   "execution_count": 23,
   "metadata": {},
   "outputs": [],
   "source": [
    "train_data,test_data,train_target,test_target=train_test_split(data,target,test_size=0.1)"
   ]
  },
  {
   "cell_type": "code",
   "execution_count": 24,
   "metadata": {},
   "outputs": [],
   "source": [
    "checkpoint = ModelCheckpoint('model-{epoch:03d}.model',monitor='val_loss',verbose=0,save_best_only=True,mode='auto')"
   ]
  },
  {
   "cell_type": "code",
   "execution_count": 25,
   "metadata": {},
   "outputs": [
    {
     "name": "stdout",
     "output_type": "stream",
     "text": [
      "Epoch 1/20\n",
      "31/31 [==============================] - ETA: 0s - loss: 0.7743 - accuracy: 0.5162WARNING:tensorflow:From C:\\Users\\hp\\anaconda3\\envs\\tf\\lib\\site-packages\\tensorflow\\python\\training\\tracking\\tracking.py:111: Model.state_updates (from tensorflow.python.keras.engine.training) is deprecated and will be removed in a future version.\n",
      "Instructions for updating:\n",
      "This property should not be used in TensorFlow 2.0, as updates are applied automatically.\n",
      "WARNING:tensorflow:From C:\\Users\\hp\\anaconda3\\envs\\tf\\lib\\site-packages\\tensorflow\\python\\training\\tracking\\tracking.py:111: Layer.updates (from tensorflow.python.keras.engine.base_layer) is deprecated and will be removed in a future version.\n",
      "Instructions for updating:\n",
      "This property should not be used in TensorFlow 2.0, as updates are applied automatically.\n",
      "INFO:tensorflow:Assets written to: model-001.model\\assets\n",
      "31/31 [==============================] - 46s 1s/step - loss: 0.7743 - accuracy: 0.5162 - val_loss: 0.6932 - val_accuracy: 0.4839\n",
      "Epoch 2/20\n",
      "31/31 [==============================] - ETA: 0s - loss: 0.6932 - accuracy: 0.5162INFO:tensorflow:Assets written to: model-002.model\\assets\n",
      "31/31 [==============================] - 44s 1s/step - loss: 0.6932 - accuracy: 0.5162 - val_loss: 0.6932 - val_accuracy: 0.4839\n",
      "Epoch 3/20\n",
      "31/31 [==============================] - ETA: 0s - loss: 0.6932 - accuracy: 0.5162INFO:tensorflow:Assets written to: model-003.model\\assets\n",
      "31/31 [==============================] - 44s 1s/step - loss: 0.6932 - accuracy: 0.5162 - val_loss: 0.6932 - val_accuracy: 0.4839\n",
      "Epoch 4/20\n",
      "31/31 [==============================] - ETA: 0s - loss: 0.6932 - accuracy: 0.5162INFO:tensorflow:Assets written to: model-004.model\\assets\n",
      "31/31 [==============================] - 43s 1s/step - loss: 0.6932 - accuracy: 0.5162 - val_loss: 0.6931 - val_accuracy: 0.4839\n",
      "Epoch 5/20\n",
      "31/31 [==============================] - ETA: 0s - loss: 0.6931 - accuracy: 0.5162INFO:tensorflow:Assets written to: model-005.model\\assets\n",
      "31/31 [==============================] - 43s 1s/step - loss: 0.6931 - accuracy: 0.5162 - val_loss: 0.6931 - val_accuracy: 0.4839\n",
      "Epoch 6/20\n",
      "31/31 [==============================] - ETA: 0s - loss: 0.6931 - accuracy: 0.5162INFO:tensorflow:Assets written to: model-006.model\\assets\n",
      "31/31 [==============================] - 44s 1s/step - loss: 0.6931 - accuracy: 0.5162 - val_loss: 0.6931 - val_accuracy: 0.4839\n",
      "Epoch 7/20\n",
      "31/31 [==============================] - ETA: 0s - loss: 0.6931 - accuracy: 0.5162INFO:tensorflow:Assets written to: model-007.model\\assets\n",
      "31/31 [==============================] - 44s 1s/step - loss: 0.6931 - accuracy: 0.5162 - val_loss: 0.6931 - val_accuracy: 0.4839\n",
      "Epoch 8/20\n",
      "31/31 [==============================] - ETA: 0s - loss: 0.6931 - accuracy: 0.5162INFO:tensorflow:Assets written to: model-008.model\\assets\n",
      "31/31 [==============================] - 43s 1s/step - loss: 0.6931 - accuracy: 0.5162 - val_loss: 0.6931 - val_accuracy: 0.4839\n",
      "Epoch 9/20\n",
      "31/31 [==============================] - ETA: 0s - loss: 0.6931 - accuracy: 0.5162INFO:tensorflow:Assets written to: model-009.model\\assets\n",
      "31/31 [==============================] - 44s 1s/step - loss: 0.6931 - accuracy: 0.5162 - val_loss: 0.6931 - val_accuracy: 0.4839\n",
      "Epoch 10/20\n",
      "31/31 [==============================] - 41s 1s/step - loss: 0.6931 - accuracy: 0.5162 - val_loss: 0.6931 - val_accuracy: 0.4839\n",
      "Epoch 11/20\n",
      "31/31 [==============================] - 43s 1s/step - loss: 0.6931 - accuracy: 0.5162 - val_loss: 0.6931 - val_accuracy: 0.4839\n",
      "Epoch 12/20\n",
      "31/31 [==============================] - 41s 1s/step - loss: 0.6931 - accuracy: 0.5162 - val_loss: 0.6931 - val_accuracy: 0.4839\n",
      "Epoch 13/20\n",
      "31/31 [==============================] - 40s 1s/step - loss: 0.6931 - accuracy: 0.5162 - val_loss: 0.6931 - val_accuracy: 0.4839\n",
      "Epoch 14/20\n",
      "31/31 [==============================] - 41s 1s/step - loss: 0.6931 - accuracy: 0.5162 - val_loss: 0.6931 - val_accuracy: 0.4839\n",
      "Epoch 15/20\n",
      "31/31 [==============================] - 40s 1s/step - loss: 0.6931 - accuracy: 0.5162 - val_loss: 0.6931 - val_accuracy: 0.4839\n",
      "Epoch 16/20\n",
      "31/31 [==============================] - 41s 1s/step - loss: 0.6931 - accuracy: 0.5162 - val_loss: 0.6931 - val_accuracy: 0.4839\n",
      "Epoch 17/20\n",
      "31/31 [==============================] - 40s 1s/step - loss: 0.6931 - accuracy: 0.5162 - val_loss: 0.6931 - val_accuracy: 0.4839\n",
      "Epoch 18/20\n",
      "31/31 [==============================] - 40s 1s/step - loss: 0.6931 - accuracy: 0.5162 - val_loss: 0.6931 - val_accuracy: 0.4839\n",
      "Epoch 19/20\n",
      "31/31 [==============================] - 41s 1s/step - loss: 0.6931 - accuracy: 0.5182 - val_loss: 0.6931 - val_accuracy: 0.5161\n",
      "Epoch 20/20\n",
      "31/31 [==============================] - 40s 1s/step - loss: 0.6931 - accuracy: 0.4838 - val_loss: 0.6931 - val_accuracy: 0.5161\n"
     ]
    }
   ],
   "source": [
    "history=model.fit(train_data,train_target,epochs=20,callbacks=[checkpoint],validation_split=0.2)"
   ]
  },
  {
   "cell_type": "code",
   "execution_count": 26,
   "metadata": {},
   "outputs": [
    {
     "data": {
      "image/png": "[encoded data removed]",
      "text/plain": [
       "<Figure size 432x288 with 1 Axes>"
      ]
     },
     "metadata": {
      "needs_background": "light"
     },
     "output_type": "display_data"
    }
   ],
   "source": [
    "#PLOTING GRAPH TO SEE LOSSES\n",
    "plt.plot(history.history['loss'],'r',label='training loss')\n",
    "plt.plot(history.history['val_loss'],label='validation loss')\n",
    "plt.xlabel('# epochs')\n",
    "plt.ylabel('loss')\n",
    "plt.legend()\n",
    "plt.show()"
   ]
  },
  {
   "cell_type": "code",
   "execution_count": 27,
   "metadata": {},
   "outputs": [
    {
     "data": {
      "image/png": "[encoded data removed]",
      "text/plain": [
       "<Figure size 432x288 with 1 Axes>"
      ]
     },
     "metadata": {
      "needs_background": "light"
     },
     "output_type": "display_data"
    }
   ],
   "source": [
    "#PLOTTING GRAPH TO SEE THE ACCURACY\n",
    "plt.plot(history.history['accuracy'],'r',label='training accuracy')\n",
    "plt.plot(history.history['val_accuracy'],label='validation accuracy')\n",
    "plt.xlabel('# epochs')\n",
    "plt.ylabel('loss')\n",
    "plt.legend()\n",
    "plt.show()"
   ]
  },
  {
   "cell_type": "code",
   "execution_count": 28,
   "metadata": {},
   "outputs": [
    {
     "name": "stdout",
     "output_type": "stream",
     "text": [
      "5/5 [==============================] - 1s 272ms/step - loss: 0.6931 - accuracy: 0.5725\n",
      "[0.6931469440460205, 0.5724637508392334]\n"
     ]
    }
   ],
   "source": [
    "print(model.evaluate(test_data,test_target))"
   ]
  },
  {
   "cell_type": "markdown",
   "metadata": {},
   "source": [
    "# Detecting Faces with and without masks"
   ]
  },
  {
   "cell_type": "code",
   "execution_count": 30,
   "metadata": {},
   "outputs": [],
   "source": [
    "model = load_model('model-017.model')\n",
    "\n",
    "face_clsfr=cv2.CascadeClassifier('haarcascade_frontalface_default.xml')\n",
    "\n",
    "source=cv2.VideoCapture(0)\n",
    "\n",
    "labels_dict={0:'MASK',1:'NO MASK'}\n",
    "color_dict={0:(0,255,0),1:(0,0,255)}\n",
    "\n",
    "while(True):\n",
    "\n",
    "    ret,img=source.read()\n",
    "    gray=cv2.cvtColor(img,cv2.COLOR_BGR2GRAY)\n",
    "    faces=face_clsfr.detectMultiScale(gray,1.3,5)  \n",
    "\n",
    "    for (x,y,w,h) in faces:\n",
    "        face_img=gray[y:y+w,x:x+w]\n",
    "        resized=cv2.resize(face_img,(100,100))\n",
    "        normalized=resized/255.0\n",
    "        reshaped=np.reshape(normalized,(1,100,100,1))\n",
    "        result=model.predict(reshaped)\n",
    "\n",
    "        label=np.argmax(result,axis=1)[0]\n",
    "      \n",
    "        cv2.rectangle(img,(x,y),(x+w,y+h),color_dict[label],2)\n",
    "        cv2.rectangle(img,(x,y-40),(x+w,y),color_dict[label],-1)\n",
    "        cv2.putText(img, labels_dict[label], (x, y-10),cv2.FONT_HERSHEY_SIMPLEX,0.8,(255,255,255),2)\n",
    "        \n",
    "        \n",
    "    cv2.imshow('LIVE',img)\n",
    "    key=cv2.waitKey(1)\n",
    "    \n",
    "    if(key==27):\n",
    "        break\n",
    "        \n",
    "cv2.destroyAllWindows()\n",
    "source.release()"
   ]
  },
  {
   "cell_type": "code",
   "execution_count": null,
   "metadata": {},
   "outputs": [],
   "source": []
  }
 ],
 "metadata": {
  "kernelspec": {
   "display_name": "Python 3",
   "language": "python",
   "name": "python3"
  },
  "language_info": {
   "codemirror_mode": {
    "name": "ipython",
    "version": 3
   },
   "file_extension": ".py",
   "mimetype": "text/x-python",
   "name": "python",
   "nbconvert_exporter": "python",
   "pygments_lexer": "ipython3",
   "version": "3.8.5"
  }
 },
 "nbformat": 4,
 "nbformat_minor": 2
}
